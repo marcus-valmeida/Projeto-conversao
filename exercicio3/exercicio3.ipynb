{
 "cells": [
  {
   "cell_type": "markdown",
   "id": "8a4d5779",
   "metadata": {},
   "source": []
  },
  {
   "cell_type": "code",
   "execution_count": 3,
   "id": "0d23a3ca",
   "metadata": {},
   "outputs": [],
   "source": [
    "import numpy as np\n",
    "import matplotlib.pyplot as plt\n",
    "from scipy.interpolate import CubicSpline\n"
   ]
  },
  {
   "cell_type": "code",
   "execution_count": null,
   "id": "d15dfb43",
   "metadata": {},
   "outputs": [
    {
     "name": "stdout",
     "output_type": "stream",
     "text": [
      "1000\n"
     ]
    }
   ],
   "source": [
    "#Constantes\n",
    "\n",
    "g0 = 1*1e-3\n",
    "u0 = np.pi*4*1e-7\n",
    "W = 4*1e-2\n",
    "D = 3.5*1e-2\n",
    "d = 8*1e-3\n",
    "N1 = 1000\n"
   ]
  },
  {
   "cell_type": "markdown",
   "id": "6806da90",
   "metadata": {},
   "source": [
    "### Considere inicialmente que não há corrente na bobina.\n",
    "### Apresente um gráfico para a força magnética que surge no elemento\n",
    "móvel nas condições a seguir:   \n",
    "•Considerando uma aproximação linear da forma:  \n",
    "$$\n",
    "B_{\\mathrm{m}} = \\mu_{\\mathrm{R}} (H_{\\mathrm{m}} - H_{\\mathrm{c}}^{\\prime})\n",
    "$$\n",
    "•Considerando a curva BxH fornecida para o imã.\n"
   ]
  },
  {
   "cell_type": "code",
   "execution_count": null,
   "id": "09b85d51",
   "metadata": {},
   "outputs": [],
   "source": [
    "#desse modo como não possuimos todos os parâmetros utilizamos interporlação cúbica\n",
    "\n",
    "Br = np.array([0, 1.2])\n",
    "Hr = np.array([-52000, 0])\n",
    "\n",
    "funcao_linear=CubicSpline(Hr, Br, bc_type='natural')\n",
    "\n"
   ]
  }
 ],
 "metadata": {
  "kernelspec": {
   "display_name": "venv",
   "language": "python",
   "name": "python3"
  },
  "language_info": {
   "codemirror_mode": {
    "name": "ipython",
    "version": 3
   },
   "file_extension": ".py",
   "mimetype": "text/x-python",
   "name": "python",
   "nbconvert_exporter": "python",
   "pygments_lexer": "ipython3",
   "version": "3.12.3"
  }
 },
 "nbformat": 4,
 "nbformat_minor": 5
}
