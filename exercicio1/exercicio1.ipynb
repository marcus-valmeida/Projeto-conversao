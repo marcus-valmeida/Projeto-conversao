{
 "cells": [
  {
   "cell_type": "code",
   "execution_count": null,
   "id": "6b59a827",
   "metadata": {},
   "outputs": [],
   "source": [
    "import numpy as np\n",
    "import matplotlib.pyplot as plt\n",
    "from scipy.interpolate import CubicSpline\n",
    "from scipy.integrate import trapezoid, solve_ivp"
   ]
  },
  {
   "cell_type": "code",
   "execution_count": null,
   "id": "7d370393",
   "metadata": {},
   "outputs": [],
   "source": [
    "num_pontos = 200\n",
    "Massa = 10                                                      # massa de 10Kg\n",
    "\n",
    "CampoMagnetico = np.array([0, 68, 135, 203, 271, 338, 406, 474, 542, 609, 1100, 1500, 2500, 4000, 5000, 9000, 12000, 20000, 25000])\n",
    "DensidadeCampo = np.array([0, 0.733, 1.205, 1.424, 1.517, 1.560, 1.588, 1.617, 1.631, 1.646, 1.689, 1.703,1.724, 1.731, 1.738, 1.761, 1.770, 1.800, 1.816])"
   ]
  },
  {
   "cell_type": "code",
   "execution_count": null,
   "id": "4cd3af1a",
   "metadata": {},
   "outputs": [],
   "source": [
    "def Coenergia_forca(Interpolacao_H_B, Nf):\n",
    "    # variação de x\n",
    "    x = np.linspace(0, 0.02, num_pontos)# 20 mm em metros\n",
    "\n",
    "    # variação de Bm\n",
    "    Bm = np.linspace(0, 1.2, num_pontos)\n",
    "    # Corrente ficticia -> Inicia um vetor com todos os valores nulos\n",
    "    If = np.zeros(num_pontos)\n",
    "    # Fluxo concatenado\n",
    "    fluxo_concatenado = np.zeros(num_pontos)\n",
    "    Coenergia = np.zeros(num_pontos)\n",
    "\n",
    "    #caso onde não calculamos por bobina ficticia\n",
    "    CoenergiaN1000 = np.zeros(num_pontos)\n",
    "\n",
    "    for j in range(len(x)):\n",
    "      for b in range(len(Bm)):\n",
    "\n",
    "        # If = (Hi*d + Bm*[x + g0]/U0) /Nf\n",
    "        If[b] = ((Interpolacao_H_B(Bm[b])*d) + ((Bm[b]*(x[j]+g0)/U0)))/Nf\n",
    "\n",
    "        # λ =  Nf * Bm * Area_do_imã\n",
    "        fluxo_concatenado[b] =  Nf*Bm[b]*Area\n",
    "\n",
    "        if (f\"{x[j]:.4f}\" == \"0.0005\"):  # Posição do elemento móvel\n",
    "            # Encontrando os valores da densidade de fluxo B para a corrente If\n",
    "            Bm_x = np.copy(Bm)\n",
    "            If_x = np.copy(If)\n",
    "\n",
    "      # Interpolação de λ , Bm, If\n",
    "      interpolacao_fluxo_concatenado_If = CubicSpline(If,fluxo_concatenado)\n",
    "      interpolacao_If_Bm = CubicSpline(Bm,If)\n",
    "\n",
    "      #parte inferior da integral, ponto onde B = 0\n",
    "      If_0 = interpolacao_If_Bm(0)\n",
    "      #limite de integração do λ\n",
    "      lim_int_fluxo_concatenado = np.linspace(If_0, 0, num_pontos)\n",
    "      #valores para coenergia\n",
    "      interpol_fluxo_concatenado = interpolacao_fluxo_concatenado_If(lim_int_fluxo_concatenado)\n",
    "      #valores para coenergia\n",
    "      Coenergia[j] = trapezoid(interpol_fluxo_concatenado,lim_int_fluxo_concatenado) \n",
    "      \n",
    "      Bop_normal = 1.08\n",
    "      Hop_normal = -31.14*1e+3\n",
    "      xop_normal = 0.5*1e-3\n",
    "      #valor da corrente quando está em operação normal\n",
    "      Iop_normal =   ((-Hop_normal*d) + Bop_normal*((xop_normal + g0)/U0))/Nf\n",
    "      \n",
    "      Iint_Nf_1000 = np.linspace(If_0,Iop_normal,num_pontos)\n",
    "      Fluxo_concat_Interpolado_Nf_1000 = interpolacao_fluxo_concatenado_If(Iint_Nf_1000)\n",
    "      CoenergiaN1000[j] = trapezoid(Fluxo_concat_Interpolado_Nf_1000,Iint_Nf_1000)\n",
    "\n",
    "    #caso de operação normal  \n",
    "    if(Nf == 1000):\n",
    "      Forca = np.gradient(CoenergiaN1000[:len(x)-1], x[:len(x)-1])\n",
    "      return Forca, CoenergiaN1000[:len(CoenergiaN1000)-1],(x[:len(x)-1]), Bm_x, If_x, Iop_normal \n",
    "\n",
    "    #caso da bobina ficticia\n",
    "    else:\n",
    "      Forca = np.gradient(Coenergia[:len(x)-1], x[:len(x)-1])\n",
    "      return Forca, Coenergia[:len(Coenergia)-1],(x[:len(x)-1])"
   ]
  }
 ],
 "metadata": {
  "kernelspec": {
   "display_name": "venv",
   "language": "python",
   "name": "python3"
  },
  "language_info": {
   "codemirror_mode": {
    "name": "ipython",
    "version": 3
   },
   "file_extension": ".py",
   "mimetype": "text/x-python",
   "name": "python",
   "nbconvert_exporter": "python",
   "pygments_lexer": "ipython3",
   "version": "3.13.5"
  }
 },
 "nbformat": 4,
 "nbformat_minor": 5
}
